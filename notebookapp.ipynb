{
 "cells": [
  {
   "cell_type": "code",
   "execution_count": 1,
   "metadata": {},
   "outputs": [],
   "source": [
    "from bs4 import BeautifulSoup\n",
    "import json\n",
    "import requests as req\n",
    "import urllib.parse as par"
   ]
  },
  {
   "cell_type": "code",
   "execution_count": 2,
   "metadata": {},
   "outputs": [
    {
     "name": "stdout",
     "output_type": "stream",
     "text": [
      "https://www.youtube.com/results?search_query=badbot+python\n"
     ]
    }
   ],
   "source": [
    "search = {'search_query':'badbot python'}\n",
    "url =  'https://www.youtube.com/results?{}'.format(par.urlencode(search))\n",
    "\n",
    "print(url)"
   ]
  },
  {
   "cell_type": "code",
   "execution_count": 35,
   "metadata": {},
   "outputs": [],
   "source": [
    "def tag_extractor(url):\n",
    "    content = req.get(url)\n",
    "    soup = BeautifulSoup(content.content, 'html.parser')\n",
    "    for script in soup.findAll('script'):\n",
    "        if 'keywords' in str(script):    \n",
    "            start_ind = str(script).index('keywords')\n",
    "            start_ind += 10\n",
    "            rest_out = str(str(script)[start_ind:])\n",
    "            end_ind = rest_out.index(']')\n",
    "            final = rest_out[:end_ind+1]\n",
    "            final = final.replace('\\\\', '')\n",
    "            final = final.replace(':', '')\n",
    "            return (json.loads(final))\n"
   ]
  },
  {
   "cell_type": "code",
   "execution_count": 36,
   "metadata": {},
   "outputs": [
    {
     "name": "stdout",
     "output_type": "stream",
     "text": [
      "['Botnet', 'DDOS', 'COmputer', 'Internet security', 'What is Botnet', 'Botnets', 'Zombie Computers', 'Malware', 'Virus', 'Trojan', 'Worms', 'antivirus', 'ddos', 'trojan horse', 'hacking', 'cybercrime', 'Botnet kya hota hai', 'internet zombies', 'social networking bots', 'ethical hacking', 'ethical hacking for beginners', 'kali linux', 'cyber security', 'ethical hacking tools', 'what is ethical hacking', 'python tutorial', 'python course', 'python data science libraries', 'python from scratch', 'Telegram', 'telegram bot', 'telegram hacking']\n"
     ]
    }
   ],
   "source": [
    "print(tag_extractor(\"https://www.youtube.com/watch?v=EtgSZGWb2m0&t=16s\"))"
   ]
  },
  {
   "cell_type": "code",
   "execution_count": 8,
   "metadata": {},
   "outputs": [],
   "source": [
    "content = req.get(url)\n",
    "soup = BeautifulSoup(content.content, 'html.parser')    "
   ]
  },
  {
   "cell_type": "code",
   "execution_count": 38,
   "metadata": {},
   "outputs": [
    {
     "data": {
      "text/plain": [
       "[<a aria-hidden=\"true\" class=\"yt-uix-sessionlink spf-link\" data-sessionlink=\"itct=CFYQ3DAYACITCPjl8a7eiOkCFWbzOAYdQrsLQDIGc2VhcmNoUg1iYWRib3QgcHl0aG9umgEDEPQk\" href=\"/watch?v=EtgSZGWb2m0\"><div class=\"yt-thumb video-thumb\"><span class=\"yt-thumb-simple\">\n",
       " <img alt=\"\" data-ytimg=\"1\" height=\"138\" onload=\";window.__ytRIL &amp;&amp; __ytRIL(this)\" src=\"https://i.ytimg.com/vi/EtgSZGWb2m0/hqdefault.jpg?sqp=-oaymwEjCPYBEIoBSFryq4qpAxUIARUAAAAAGAElAADIQj0AgKJDeAE=&amp;rs=AOn4CLDG64oeKias1F9P0arTEeQPRyQWkQ\" width=\"246\"/>\n",
       " <span aria-hidden=\"true\" class=\"video-time\">18:35</span></span></div></a>,\n",
       " <a class=\"yt-uix-sessionlink spf-link\" data-sessionlink=\"itct=CFYQ3DAYACITCPjl8a7eiOkCFWbzOAYdQrsLQA\" href=\"/channel/UCB6hSbdL1aE8I9CN6wIIJzg\">Technicality</a>,\n",
       " <a aria-hidden=\"true\" class=\"yt-uix-sessionlink spf-link\" data-sessionlink=\"itct=CFUQ3DAYASITCPjl8a7eiOkCFWbzOAYdQrsLQDIGc2VhcmNoUg1iYWRib3QgcHl0aG9umgEDEPQk\" href=\"/watch?v=KRaWnd3LJfs\"><div class=\"yt-thumb video-thumb\"><span class=\"yt-thumb-simple\">\n",
       " <img alt=\"\" data-ytimg=\"1\" height=\"138\" onload=\";window.__ytRIL &amp;&amp; __ytRIL(this)\" src=\"https://i.ytimg.com/vi/KRaWnd3LJfs/hqdefault.jpg?sqp=-oaymwEjCPYBEIoBSFryq4qpAxUIARUAAAAAGAElAADIQj0AgKJDeAE=&amp;rs=AOn4CLC1TD4GL0s_7oUbyl8GLRfQlV7Tlg\" width=\"246\"/>\n",
       " <span aria-hidden=\"true\" class=\"video-time\">4:40</span></span></div></a>,\n",
       " <a class=\"yt-uix-sessionlink spf-link\" data-sessionlink=\"itct=CFUQ3DAYASITCPjl8a7eiOkCFWbzOAYdQrsLQA\" href=\"/channel/UCBVjMGOIkavEAhyqpxJ73Dw\">Maroon 5</a>,\n",
       " <a aria-hidden=\"true\" class=\"yt-uix-sessionlink spf-link\" data-sessionlink=\"itct=CFQQ3DAYAiITCPjl8a7eiOkCFWbzOAYdQrsLQDIGc2VhcmNoUg1iYWRib3QgcHl0aG9umgEDEPQk\" href=\"/watch?v=MPmzmMhqWpU\"><div class=\"yt-thumb video-thumb\"><span class=\"yt-thumb-simple\">\n",
       " <img alt=\"\" data-ytimg=\"1\" height=\"138\" onload=\";window.__ytRIL &amp;&amp; __ytRIL(this)\" src=\"https://i.ytimg.com/vi/MPmzmMhqWpU/hqdefault.jpg?sqp=-oaymwEjCPYBEIoBSFryq4qpAxUIARUAAAAAGAElAADIQj0AgKJDeAE=&amp;rs=AOn4CLAS7DOBDGl13Rd2elZR_azt_0c_oQ\" width=\"246\"/>\n",
       " <span aria-hidden=\"true\" class=\"video-time\">2:52</span></span></div></a>,\n",
       " <a class=\"yt-uix-sessionlink spf-link\" data-sessionlink=\"itct=CFQQ3DAYAiITCPjl8a7eiOkCFWbzOAYdQrsLQA\" href=\"/channel/UCqWn8hLoqJLH_UUeE1vHzYw\">Payton Moormeier</a>,\n",
       " <a aria-hidden=\"true\" class=\"yt-uix-sessionlink spf-link\" data-sessionlink=\"itct=CFMQ3DAYAyITCPjl8a7eiOkCFWbzOAYdQrsLQDIGc2VhcmNoUg1iYWRib3QgcHl0aG9umgEDEPQk\" href=\"/watch?v=tSjR7bk1Y9U\"><div class=\"yt-thumb video-thumb\"><span class=\"yt-thumb-simple\">\n",
       " <img alt=\"\" data-ytimg=\"1\" height=\"138\" onload=\";window.__ytRIL &amp;&amp; __ytRIL(this)\" src=\"https://i.ytimg.com/vi/tSjR7bk1Y9U/hqdefault.jpg?sqp=-oaymwEjCPYBEIoBSFryq4qpAxUIARUAAAAAGAElAADIQj0AgKJDeAE=&amp;rs=AOn4CLBoqknnCflexEGnvVopves6p4YQmg\" width=\"246\"/>\n",
       " <span aria-hidden=\"true\" class=\"video-time\">24:46</span></span></div></a>,\n",
       " <a class=\"yt-uix-sessionlink spf-link\" data-sessionlink=\"itct=CFMQ3DAYAyITCPjl8a7eiOkCFWbzOAYdQrsLQA\" href=\"/user/edurekaIN\">edureka!</a>,\n",
       " <a aria-hidden=\"true\" class=\"yt-uix-sessionlink spf-link\" data-sessionlink=\"itct=CFIQ3DAYBCITCPjl8a7eiOkCFWbzOAYdQrsLQDIGc2VhcmNoUg1iYWRib3QgcHl0aG9umgEDEPQk\" href=\"/watch?v=uR8Mrt1IpXg\"><div class=\"yt-thumb video-thumb\"><span class=\"yt-thumb-simple\">\n",
       " <img alt=\"\" data-ytimg=\"1\" height=\"138\" onload=\";window.__ytRIL &amp;&amp; __ytRIL(this)\" src=\"https://i.ytimg.com/vi/uR8Mrt1IpXg/hqdefault.jpg?sqp=-oaymwEjCPYBEIoBSFryq4qpAxUIARUAAAAAGAElAADIQj0AgKJDeAE=&amp;rs=AOn4CLBrFdLr0Sd3WQl4Fsof1ycov72zyQ\" width=\"246\"/>\n",
       " <span aria-hidden=\"true\" class=\"video-time\">3:36</span></span></div></a>,\n",
       " <a class=\"yt-uix-sessionlink spf-link\" data-sessionlink=\"itct=CFIQ3DAYBCITCPjl8a7eiOkCFWbzOAYdQrsLQA\" href=\"/user/SMTOWN\">SMTOWN</a>,\n",
       " <a aria-hidden=\"true\" class=\"yt-uix-sessionlink spf-link\" data-sessionlink=\"itct=CFEQ3DAYBSITCPjl8a7eiOkCFWbzOAYdQrsLQDIGc2VhcmNoUg1iYWRib3QgcHl0aG9umgEDEPQk\" href=\"/watch?v=CknPQyQfvC0\"><div class=\"yt-thumb video-thumb\"><span class=\"yt-thumb-simple\">\n",
       " <img alt=\"\" data-ytimg=\"1\" height=\"138\" onload=\";window.__ytRIL &amp;&amp; __ytRIL(this)\" src=\"https://i.ytimg.com/vi/CknPQyQfvC0/hqdefault.jpg?sqp=-oaymwEjCPYBEIoBSFryq4qpAxUIARUAAAAAGAElAADIQj0AgKJDeAE=&amp;rs=AOn4CLAMauFTAXZTc3iRKMgimhik1huT8w\" width=\"246\"/>\n",
       " <span aria-hidden=\"true\" class=\"video-time\">4:23</span></span></div></a>,\n",
       " <a class=\"yt-uix-sessionlink spf-link\" data-sessionlink=\"itct=CFEQ3DAYBSITCPjl8a7eiOkCFWbzOAYdQrsLQA\" href=\"/channel/UCnJL6orDoMHJkmGWHNVaJFw\">David Eckler</a>,\n",
       " <a aria-hidden=\"true\" class=\"yt-uix-sessionlink spf-link\" data-sessionlink=\"itct=CFAQ3DAYBiITCPjl8a7eiOkCFWbzOAYdQrsLQDIGc2VhcmNoUg1iYWRib3QgcHl0aG9umgEDEPQk\" href=\"/watch?v=W0wWwglE1Vc\"><div class=\"yt-thumb video-thumb\"><span class=\"yt-thumb-simple\">\n",
       " <img alt=\"\" data-thumb=\"https://i.ytimg.com/vi/W0wWwglE1Vc/hqdefault.jpg?sqp=-oaymwEjCPYBEIoBSFryq4qpAxUIARUAAAAAGAElAADIQj0AgKJDeAE=&amp;rs=AOn4CLDGHL4-oNUm0edb_ARyOKIjdnuXPg\" data-ytimg=\"1\" height=\"138\" onload=\";window.__ytRIL &amp;&amp; __ytRIL(this)\" src=\"/yts/img/pixel-vfl3z5WfW.gif\" width=\"246\"/>\n",
       " <span aria-hidden=\"true\" class=\"video-time\">35:48</span></span></div></a>,\n",
       " <a class=\"yt-uix-sessionlink spf-link\" data-sessionlink=\"itct=CFAQ3DAYBiITCPjl8a7eiOkCFWbzOAYdQrsLQA\" href=\"/channel/UCxX9wt5FWQUAAz4UrysqK9A\">CS Dojo</a>,\n",
       " <a aria-hidden=\"true\" class=\"yt-uix-sessionlink spf-link\" data-sessionlink=\"itct=CE8Q3DAYByITCPjl8a7eiOkCFWbzOAYdQrsLQDIGc2VhcmNoUg1iYWRib3QgcHl0aG9umgEDEPQk\" href=\"/watch?v=P348zIq1JF0\"><div class=\"yt-thumb video-thumb\"><span class=\"yt-thumb-simple\">\n",
       " <img alt=\"\" data-thumb=\"https://i.ytimg.com/vi/P348zIq1JF0/hqdefault.jpg?sqp=-oaymwEjCPYBEIoBSFryq4qpAxUIARUAAAAAGAElAADIQj0AgKJDeAE=&amp;rs=AOn4CLBPbqcocHL1SjZIR472eR4jdKfZrg\" data-ytimg=\"1\" height=\"138\" onload=\";window.__ytRIL &amp;&amp; __ytRIL(this)\" src=\"/yts/img/pixel-vfl3z5WfW.gif\" width=\"246\"/>\n",
       " <span aria-hidden=\"true\" class=\"video-time\">10:58</span></span></div></a>,\n",
       " <a class=\"yt-uix-sessionlink spf-link\" data-sessionlink=\"itct=CE8Q3DAYByITCPjl8a7eiOkCFWbzOAYdQrsLQA\" href=\"/channel/UCRlWL2q80BnI4sA5ISrz9uw\">Finxter - Create Your Coding Business</a>,\n",
       " <a aria-hidden=\"true\" class=\"yt-uix-sessionlink spf-link\" data-sessionlink=\"itct=CE4Q3DAYCCITCPjl8a7eiOkCFWbzOAYdQrsLQDIGc2VhcmNoUg1iYWRib3QgcHl0aG9umgEDEPQk\" href=\"/watch?v=m5s2jtITP1k\"><div class=\"yt-thumb video-thumb\"><span class=\"yt-thumb-simple\">\n",
       " <img alt=\"\" data-thumb=\"https://i.ytimg.com/vi/m5s2jtITP1k/hqdefault.jpg?sqp=-oaymwEjCPYBEIoBSFryq4qpAxUIARUAAAAAGAElAADIQj0AgKJDeAE=&amp;rs=AOn4CLBHwsXXWEU58sLGEXsB5T22xhJJ8w\" data-ytimg=\"1\" height=\"138\" onload=\";window.__ytRIL &amp;&amp; __ytRIL(this)\" src=\"/yts/img/pixel-vfl3z5WfW.gif\" width=\"246\"/>\n",
       " <span aria-hidden=\"true\" class=\"video-time\">6:47</span></span></div></a>,\n",
       " <a class=\"yt-uix-sessionlink spf-link\" data-sessionlink=\"itct=CE4Q3DAYCCITCPjl8a7eiOkCFWbzOAYdQrsLQA\" href=\"/channel/UCsdoSHH5bucBf_wwtvWJfnQ\">Testing World</a>,\n",
       " <a aria-hidden=\"true\" class=\"yt-uix-sessionlink spf-link\" data-sessionlink=\"itct=CE0Q3DAYCSITCPjl8a7eiOkCFWbzOAYdQrsLQDIGc2VhcmNoUg1iYWRib3QgcHl0aG9umgEDEPQk\" href=\"/watch?v=AGpKm0pdTMM\"><div class=\"yt-thumb video-thumb\"><span class=\"yt-thumb-simple\">\n",
       " <img alt=\"\" data-thumb=\"https://i.ytimg.com/vi/AGpKm0pdTMM/hqdefault.jpg?sqp=-oaymwEjCPYBEIoBSFryq4qpAxUIARUAAAAAGAElAADIQj0AgKJDeAE=&amp;rs=AOn4CLBZnc896SxiQkxNPQEGWar33cOmdQ\" data-ytimg=\"1\" height=\"138\" onload=\";window.__ytRIL &amp;&amp; __ytRIL(this)\" src=\"/yts/img/pixel-vfl3z5WfW.gif\" width=\"246\"/>\n",
       " <span aria-hidden=\"true\" class=\"video-time\">41:27</span></span></div></a>,\n",
       " <a class=\"yt-uix-sessionlink spf-link\" data-sessionlink=\"itct=CE0Q3DAYCSITCPjl8a7eiOkCFWbzOAYdQrsLQA\" href=\"/channel/UCoMAKPDECRWb7GEWF1lQZMQ\">John G. Fisher</a>,\n",
       " <a aria-hidden=\"true\" class=\"yt-uix-sessionlink spf-link\" data-sessionlink=\"itct=CEwQ3DAYCiITCPjl8a7eiOkCFWbzOAYdQrsLQDIGc2VhcmNoUg1iYWRib3QgcHl0aG9umgEDEPQk\" href=\"/watch?v=pIHR7rUeGTc\"><div class=\"yt-thumb video-thumb\"><span class=\"yt-thumb-simple\">\n",
       " <img alt=\"\" data-thumb=\"https://i.ytimg.com/vi/pIHR7rUeGTc/hqdefault.jpg?sqp=-oaymwEjCPYBEIoBSFryq4qpAxUIARUAAAAAGAElAADIQj0AgKJDeAE=&amp;rs=AOn4CLAmzxi6vVRBH1DYeEWtJ6kyqGD-YA\" data-ytimg=\"1\" height=\"138\" onload=\";window.__ytRIL &amp;&amp; __ytRIL(this)\" src=\"/yts/img/pixel-vfl3z5WfW.gif\" width=\"246\"/>\n",
       " <span aria-hidden=\"true\" class=\"video-time\">3:53</span></span></div></a>,\n",
       " <a class=\"yt-uix-sessionlink spf-link\" data-sessionlink=\"itct=CEwQ3DAYCiITCPjl8a7eiOkCFWbzOAYdQrsLQA\" href=\"/channel/UC-4mIX9ls8ROVk9ApfeYf5w\">French Montana</a>,\n",
       " <a aria-hidden=\"true\" class=\"yt-uix-sessionlink spf-link\" data-sessionlink=\"itct=CEsQ3DAYCyITCPjl8a7eiOkCFWbzOAYdQrsLQDIGc2VhcmNoUg1iYWRib3QgcHl0aG9umgEDEPQk\" href=\"/watch?v=d2GBO_QjRlo\"><div class=\"yt-thumb video-thumb\"><span class=\"yt-thumb-simple\">\n",
       " <img alt=\"\" data-thumb=\"https://i.ytimg.com/vi/d2GBO_QjRlo/hqdefault.jpg?sqp=-oaymwEjCPYBEIoBSFryq4qpAxUIARUAAAAAGAElAADIQj0AgKJDeAE=&amp;rs=AOn4CLCk2IFIDuGHYaprjs59z5Is5CMebw\" data-ytimg=\"1\" height=\"138\" onload=\";window.__ytRIL &amp;&amp; __ytRIL(this)\" src=\"/yts/img/pixel-vfl3z5WfW.gif\" width=\"246\"/>\n",
       " <span aria-hidden=\"true\" class=\"video-time\">13:52</span></span></div></a>,\n",
       " <a class=\"yt-uix-sessionlink spf-link\" data-sessionlink=\"itct=CEsQ3DAYCyITCPjl8a7eiOkCFWbzOAYdQrsLQA\" href=\"/channel/UCRLEADhMcb8WUdnQ5_Alk7g\">Code Drip</a>,\n",
       " <a aria-hidden=\"true\" class=\"yt-uix-sessionlink spf-link\" data-sessionlink=\"itct=CEoQ3DAYDCITCPjl8a7eiOkCFWbzOAYdQrsLQDIGc2VhcmNoUg1iYWRib3QgcHl0aG9umgEDEPQk\" href=\"/watch?v=BuLowiVb4rM\"><div class=\"yt-thumb video-thumb\"><span class=\"yt-thumb-simple\">\n",
       " <img alt=\"\" data-thumb=\"https://i.ytimg.com/vi/BuLowiVb4rM/hqdefault.jpg?sqp=-oaymwEjCPYBEIoBSFryq4qpAxUIARUAAAAAGAElAADIQj0AgKJDeAE=&amp;rs=AOn4CLAxMREY1-xFCLBZlh6AHFtybr-V4Q\" data-ytimg=\"1\" height=\"138\" onload=\";window.__ytRIL &amp;&amp; __ytRIL(this)\" src=\"/yts/img/pixel-vfl3z5WfW.gif\" width=\"246\"/>\n",
       " <span aria-hidden=\"true\" class=\"video-time\">39:25</span></span></div></a>,\n",
       " <a class=\"yt-uix-sessionlink spf-link\" data-sessionlink=\"itct=CEoQ3DAYDCITCPjl8a7eiOkCFWbzOAYdQrsLQA\" href=\"/channel/UCGVklyrKTvkvagOhxSCKC8Q\">Sai Mallelwar</a>,\n",
       " <a aria-hidden=\"true\" class=\"yt-uix-sessionlink spf-link\" data-sessionlink=\"itct=CEkQ3DAYDSITCPjl8a7eiOkCFWbzOAYdQrsLQDIGc2VhcmNoUg1iYWRib3QgcHl0aG9umgEDEPQk\" href=\"/watch?v=Yz5P_q8BWcc\"><div class=\"yt-thumb video-thumb\"><span class=\"yt-thumb-simple\">\n",
       " <img alt=\"\" data-thumb=\"https://i.ytimg.com/vi/Yz5P_q8BWcc/hqdefault.jpg?sqp=-oaymwEjCPYBEIoBSFryq4qpAxUIARUAAAAAGAElAADIQj0AgKJDeAE=&amp;rs=AOn4CLBKiqun3rl6zi82bSVRCEq9qkX7yQ\" data-ytimg=\"1\" height=\"138\" onload=\";window.__ytRIL &amp;&amp; __ytRIL(this)\" src=\"/yts/img/pixel-vfl3z5WfW.gif\" width=\"246\"/>\n",
       " <span aria-hidden=\"true\" class=\"video-time\">2:11</span></span></div></a>,\n",
       " <a class=\"yt-uix-sessionlink spf-link\" data-sessionlink=\"itct=CEkQ3DAYDSITCPjl8a7eiOkCFWbzOAYdQrsLQA\" href=\"/user/americanmotorcycle\">americanmotorcycle</a>,\n",
       " <a class=\"yt-uix-sessionlink spf-link\" data-sessionlink=\"itct=CEgQsDoYACITCPjl8a7eiOkCFWbzOAYdQrsLQA\" href=\"/results?search_query=payphone+clean\">payphone clean</a>,\n",
       " <a class=\"yt-uix-sessionlink spf-link\" data-sessionlink=\"itct=CD8QsDoYCSITCPjl8a7eiOkCFWbzOAYdQrsLQA\" href=\"/results?search_query=maroon+5+maps\">maroon 5 maps</a>,\n",
       " <a class=\"yt-uix-sessionlink spf-link\" data-sessionlink=\"itct=CEcQsDoYASITCPjl8a7eiOkCFWbzOAYdQrsLQA\" href=\"/results?search_query=payphone+remix\">payphone remix</a>,\n",
       " <a class=\"yt-uix-sessionlink spf-link\" data-sessionlink=\"itct=CD4QsDoYCiITCPjl8a7eiOkCFWbzOAYdQrsLQA\" href=\"/results?search_query=maroon+5+one+more+night\">maroon 5 one more night</a>,\n",
       " <a class=\"yt-uix-sessionlink spf-link\" data-sessionlink=\"itct=CEYQsDoYAiITCPjl8a7eiOkCFWbzOAYdQrsLQA\" href=\"/results?search_query=payphone+karaoke\">payphone karaoke</a>,\n",
       " <a class=\"yt-uix-sessionlink spf-link\" data-sessionlink=\"itct=CD0QsDoYCyITCPjl8a7eiOkCFWbzOAYdQrsLQA\" href=\"/results?search_query=chatbot+python\">chatbot python</a>,\n",
       " <a class=\"yt-uix-sessionlink spf-link\" data-sessionlink=\"itct=CEUQsDoYAyITCPjl8a7eiOkCFWbzOAYdQrsLQA\" href=\"/results?search_query=%23payphone\">#payphone</a>,\n",
       " <a class=\"yt-uix-sessionlink spf-link\" data-sessionlink=\"itct=CDwQsDoYDCITCPjl8a7eiOkCFWbzOAYdQrsLQA\" href=\"/results?search_query=python+bot+discord\">python bot discord</a>,\n",
       " <a class=\"yt-uix-sessionlink spf-link\" data-sessionlink=\"itct=CEQQsDoYBCITCPjl8a7eiOkCFWbzOAYdQrsLQA\" href=\"/results?search_query=payphone+nightcore\">payphone nightcore</a>,\n",
       " <a class=\"yt-uix-sessionlink spf-link\" data-sessionlink=\"itct=CDsQsDoYDSITCPjl8a7eiOkCFWbzOAYdQrsLQA\" href=\"/results?search_query=python+bot+instagram\">python bot instagram</a>,\n",
       " <a class=\"yt-uix-sessionlink spf-link\" data-sessionlink=\"itct=CEMQsDoYBSITCPjl8a7eiOkCFWbzOAYdQrsLQA\" href=\"/results?search_query=payphone+live\">payphone live</a>,\n",
       " <a class=\"yt-uix-sessionlink spf-link\" data-sessionlink=\"itct=CDoQsDoYDiITCPjl8a7eiOkCFWbzOAYdQrsLQA\" href=\"/results?search_query=payphone+guitar\">payphone guitar</a>,\n",
       " <a class=\"yt-uix-sessionlink spf-link\" data-sessionlink=\"itct=CEIQsDoYBiITCPjl8a7eiOkCFWbzOAYdQrsLQA\" href=\"/results?search_query=payphone+amv\">payphone amv</a>,\n",
       " <a class=\"yt-uix-sessionlink spf-link\" data-sessionlink=\"itct=CDkQsDoYDyITCPjl8a7eiOkCFWbzOAYdQrsLQA\" href=\"/results?search_query=twitter+bot+python\">twitter bot python</a>,\n",
       " <a class=\"yt-uix-sessionlink spf-link\" data-sessionlink=\"itct=CEEQsDoYByITCPjl8a7eiOkCFWbzOAYdQrsLQA\" href=\"/results?search_query=payphone+piano\">payphone piano</a>,\n",
       " <a class=\"yt-uix-sessionlink spf-link\" data-sessionlink=\"itct=CDgQsDoYECITCPjl8a7eiOkCFWbzOAYdQrsLQA\" href=\"/results?search_query=python+bot+tutorial\">python bot tutorial</a>,\n",
       " <a class=\"yt-uix-sessionlink spf-link\" data-sessionlink=\"itct=CEAQsDoYCCITCPjl8a7eiOkCFWbzOAYdQrsLQA\" href=\"/results?search_query=maroon+5+daylight\">maroon 5 daylight</a>,\n",
       " <a class=\"yt-uix-sessionlink spf-link\" data-sessionlink=\"itct=CDcQsDoYESITCPjl8a7eiOkCFWbzOAYdQrsLQA\" href=\"/results?search_query=maroon+5+don%27t+wanna+know\">maroon 5 don't wanna know</a>,\n",
       " <a aria-hidden=\"true\" class=\"yt-uix-sessionlink spf-link\" data-sessionlink=\"itct=CDUQ3DAYDyITCPjl8a7eiOkCFWbzOAYdQrsLQDIGc2VhcmNoUg1iYWRib3QgcHl0aG9umgEDEPQk\" href=\"/watch?v=wVJLPBpxDrQ\"><div class=\"yt-thumb video-thumb\"><span class=\"yt-thumb-simple\">\n",
       " <img alt=\"\" data-thumb=\"https://i.ytimg.com/vi/wVJLPBpxDrQ/hqdefault.jpg?sqp=-oaymwEjCPYBEIoBSFryq4qpAxUIARUAAAAAGAElAADIQj0AgKJDeAE=&amp;rs=AOn4CLBEw0jbn4VbQzf1jD7v9YFIKkI4Qw\" data-ytimg=\"1\" height=\"138\" onload=\";window.__ytRIL &amp;&amp; __ytRIL(this)\" src=\"/yts/img/pixel-vfl3z5WfW.gif\" width=\"246\"/>\n",
       " <span aria-hidden=\"true\" class=\"video-time\">5:03</span></span></div></a>,\n",
       " <a class=\"yt-uix-sessionlink spf-link\" data-sessionlink=\"itct=CDUQ3DAYDyITCPjl8a7eiOkCFWbzOAYdQrsLQA\" href=\"/user/gordonramsay\">Gordon Ramsay</a>,\n",
       " <a aria-hidden=\"true\" class=\"yt-uix-sessionlink spf-link\" data-sessionlink=\"itct=CDQQ3DAYECITCPjl8a7eiOkCFWbzOAYdQrsLQDIGc2VhcmNoUg1iYWRib3QgcHl0aG9umgEDEPQk\" href=\"/watch?v=7ovFudqFB0Q\"><div class=\"yt-thumb video-thumb\"><span class=\"yt-thumb-simple\">\n",
       " <img alt=\"\" data-thumb=\"https://i.ytimg.com/vi/7ovFudqFB0Q/hqdefault.jpg?sqp=-oaymwEjCPYBEIoBSFryq4qpAxUIARUAAAAAGAElAADIQj0AgKJDeAE=&amp;rs=AOn4CLAj6W9K7JZP9LJaLvIVzVYbc85cCg\" data-ytimg=\"1\" height=\"138\" onload=\";window.__ytRIL &amp;&amp; __ytRIL(this)\" src=\"/yts/img/pixel-vfl3z5WfW.gif\" width=\"246\"/>\n",
       " <span aria-hidden=\"true\" class=\"video-time\">22:34</span></span></div></a>,\n",
       " <a class=\"yt-uix-sessionlink spf-link\" data-sessionlink=\"itct=CDQQ3DAYECITCPjl8a7eiOkCFWbzOAYdQrsLQA\" href=\"/channel/UClb90NQQcskPUGDIXsQEz5Q\">Dev Ed</a>,\n",
       " <a aria-hidden=\"true\" class=\"yt-uix-sessionlink spf-link\" data-sessionlink=\"itct=CDMQ3DAYESITCPjl8a7eiOkCFWbzOAYdQrsLQDIGc2VhcmNoUg1iYWRib3QgcHl0aG9umgEDEPQk\" href=\"/watch?v=wmRci1iICkw\"><div class=\"yt-thumb video-thumb\"><span class=\"yt-thumb-simple\">\n",
       " <img alt=\"\" data-thumb=\"https://i.ytimg.com/vi/wmRci1iICkw/hqdefault.jpg?sqp=-oaymwEjCPYBEIoBSFryq4qpAxUIARUAAAAAGAElAADIQj0AgKJDeAE=&amp;rs=AOn4CLD2bf6kY_H66BotaLtkWDFnl7lY_A\" data-ytimg=\"1\" height=\"138\" onload=\";window.__ytRIL &amp;&amp; __ytRIL(this)\" src=\"/yts/img/pixel-vfl3z5WfW.gif\" width=\"246\"/>\n",
       " <span aria-hidden=\"true\" class=\"video-time\">2:58</span></span></div></a>,\n",
       " <a class=\"yt-uix-sessionlink spf-link\" data-sessionlink=\"itct=CDMQ3DAYESITCPjl8a7eiOkCFWbzOAYdQrsLQA\" href=\"/user/yanaish\">yanai shpinner</a>,\n",
       " <a aria-hidden=\"true\" class=\"yt-uix-sessionlink spf-link\" data-sessionlink=\"itct=CDIQ3DAYEiITCPjl8a7eiOkCFWbzOAYdQrsLQDIGc2VhcmNoUg1iYWRib3QgcHl0aG9umgEDEPQk\" href=\"/watch?v=ppPKeIDjcCs\"><div class=\"yt-thumb video-thumb\"><span class=\"yt-thumb-simple\">\n",
       " <img alt=\"\" data-thumb=\"https://i.ytimg.com/vi/ppPKeIDjcCs/hqdefault.jpg?sqp=-oaymwEjCPYBEIoBSFryq4qpAxUIARUAAAAAGAElAADIQj0AgKJDeAE=&amp;rs=AOn4CLBQOLmslEBXsaiWsejpgvECeExBEw\" data-ytimg=\"1\" height=\"138\" onload=\";window.__ytRIL &amp;&amp; __ytRIL(this)\" src=\"/yts/img/pixel-vfl3z5WfW.gif\" width=\"246\"/>\n",
       " <span aria-hidden=\"true\" class=\"video-time\">21:05</span></span></div></a>,\n",
       " <a class=\"yt-uix-sessionlink spf-link\" data-sessionlink=\"itct=CDIQ3DAYEiITCPjl8a7eiOkCFWbzOAYdQrsLQA\" href=\"/channel/UClb90NQQcskPUGDIXsQEz5Q\">Dev Ed</a>,\n",
       " <a aria-hidden=\"true\" class=\"yt-uix-sessionlink spf-link\" data-sessionlink=\"itct=CDEQ3DAYEyITCPjl8a7eiOkCFWbzOAYdQrsLQDIGc2VhcmNoUg1iYWRib3QgcHl0aG9umgEDEPQk\" href=\"/watch?v=MgCJG8kkq50\"><div class=\"yt-thumb video-thumb\"><span class=\"yt-thumb-simple\">\n",
       " <img alt=\"\" data-thumb=\"https://i.ytimg.com/vi/MgCJG8kkq50/hqdefault.jpg?sqp=-oaymwEjCPYBEIoBSFryq4qpAxUIARUAAAAAGAElAADIQj0AgKJDeAE=&amp;rs=AOn4CLDzv2f3i1TS32thJF6IgTF6__YW3g\" data-ytimg=\"1\" height=\"138\" onload=\";window.__ytRIL &amp;&amp; __ytRIL(this)\" src=\"/yts/img/pixel-vfl3z5WfW.gif\" width=\"246\"/>\n",
       " <span aria-hidden=\"true\" class=\"video-time\">17:16</span></span></div></a>,\n",
       " <a class=\"yt-uix-sessionlink spf-link\" data-sessionlink=\"itct=CDEQ3DAYEyITCPjl8a7eiOkCFWbzOAYdQrsLQA\" href=\"/user/DatAdam93\">Anson the Developer</a>,\n",
       " <a aria-hidden=\"true\" class=\"yt-uix-sessionlink spf-link\" data-sessionlink=\"itct=CDAQ3DAYFCITCPjl8a7eiOkCFWbzOAYdQrsLQDIGc2VhcmNoUg1iYWRib3QgcHl0aG9umgEDEPQk\" href=\"/watch?v=lOfZLb33uCg\"><div class=\"yt-thumb video-thumb\"><span class=\"yt-thumb-simple\">\n",
       " <img alt=\"\" data-thumb=\"https://i.ytimg.com/vi/lOfZLb33uCg/hqdefault.jpg?sqp=-oaymwEjCPYBEIoBSFryq4qpAxUIARUAAAAAGAElAADIQj0AgKJDeAE=&amp;rs=AOn4CLAlpeVINOA7g9YvQtrMFEvYyKAh5g\" data-ytimg=\"1\" height=\"138\" onload=\";window.__ytRIL &amp;&amp; __ytRIL(this)\" src=\"/yts/img/pixel-vfl3z5WfW.gif\" width=\"246\"/>\n",
       " <span aria-hidden=\"true\" class=\"video-time\">3:25</span></span></div></a>,\n",
       " <a class=\"yt-uix-sessionlink spf-link\" data-sessionlink=\"itct=CDAQ3DAYFCITCPjl8a7eiOkCFWbzOAYdQrsLQA\" href=\"/channel/UCDBrVr0ttWpoRY-_yZajp2Q\">alyankovic</a>]"
      ]
     },
     "execution_count": 38,
     "metadata": {},
     "output_type": "execute_result"
    }
   ],
   "source": [
    "soup.findAll(\"a\", attrs={\"class\": \"yt-uix-sessionlink spf-link\"})"
   ]
  },
  {
   "cell_type": "code",
   "execution_count": 37,
   "metadata": {},
   "outputs": [
    {
     "name": "stdout",
     "output_type": "stream",
     "text": [
      "/watch?v=EtgSZGWb2m0\n",
      "/channel/UCB6hSbdL1aE8I9CN6wIIJzg\n",
      "/watch?v=KRaWnd3LJfs\n",
      "/channel/UCBVjMGOIkavEAhyqpxJ73Dw\n",
      "/watch?v=MPmzmMhqWpU\n",
      "/channel/UCqWn8hLoqJLH_UUeE1vHzYw\n",
      "/watch?v=tSjR7bk1Y9U\n",
      "/user/edurekaIN\n",
      "/watch?v=uR8Mrt1IpXg\n",
      "/user/SMTOWN\n",
      "/watch?v=CknPQyQfvC0\n",
      "/channel/UCnJL6orDoMHJkmGWHNVaJFw\n",
      "/watch?v=W0wWwglE1Vc\n",
      "/channel/UCxX9wt5FWQUAAz4UrysqK9A\n",
      "/watch?v=P348zIq1JF0\n",
      "/channel/UCRlWL2q80BnI4sA5ISrz9uw\n",
      "/watch?v=m5s2jtITP1k\n",
      "/channel/UCsdoSHH5bucBf_wwtvWJfnQ\n",
      "/watch?v=AGpKm0pdTMM\n",
      "/channel/UCoMAKPDECRWb7GEWF1lQZMQ\n",
      "/watch?v=pIHR7rUeGTc\n",
      "/channel/UC-4mIX9ls8ROVk9ApfeYf5w\n",
      "/watch?v=d2GBO_QjRlo\n",
      "/channel/UCRLEADhMcb8WUdnQ5_Alk7g\n",
      "/watch?v=BuLowiVb4rM\n",
      "/channel/UCGVklyrKTvkvagOhxSCKC8Q\n",
      "/watch?v=Yz5P_q8BWcc\n",
      "/user/americanmotorcycle\n",
      "/results?search_query=payphone+clean\n",
      "/results?search_query=maroon+5+maps\n",
      "/results?search_query=payphone+remix\n",
      "/results?search_query=maroon+5+one+more+night\n",
      "/results?search_query=payphone+karaoke\n",
      "/results?search_query=chatbot+python\n",
      "/results?search_query=%23payphone\n",
      "/results?search_query=python+bot+discord\n",
      "/results?search_query=payphone+nightcore\n",
      "/results?search_query=python+bot+instagram\n",
      "/results?search_query=payphone+live\n",
      "/results?search_query=payphone+guitar\n",
      "/results?search_query=payphone+amv\n",
      "/results?search_query=twitter+bot+python\n",
      "/results?search_query=payphone+piano\n",
      "/results?search_query=python+bot+tutorial\n",
      "/results?search_query=maroon+5+daylight\n",
      "/results?search_query=maroon+5+don%27t+wanna+know\n",
      "/watch?v=wVJLPBpxDrQ\n",
      "/user/gordonramsay\n",
      "/watch?v=7ovFudqFB0Q\n",
      "/channel/UClb90NQQcskPUGDIXsQEz5Q\n",
      "/watch?v=wmRci1iICkw\n",
      "/user/yanaish\n",
      "/watch?v=ppPKeIDjcCs\n",
      "/channel/UClb90NQQcskPUGDIXsQEz5Q\n",
      "/watch?v=MgCJG8kkq50\n",
      "/user/DatAdam93\n",
      "/watch?v=lOfZLb33uCg\n",
      "/channel/UCDBrVr0ttWpoRY-_yZajp2Q\n"
     ]
    }
   ],
   "source": [
    "a_tags = soup.findAll(\"a\", attrs={\"class\": \"yt-uix-sessionlink spf-link\", \"aria-hidden\":\"true\"})\n",
    "for tag in a_tags:\n",
    "    print(tag['href'])"
   ]
  },
  {
   "cell_type": "code",
   "execution_count": null,
   "metadata": {},
   "outputs": [],
   "source": []
  }
 ],
 "metadata": {
  "kernelspec": {
   "display_name": "Python 3.8.1 64-bit",
   "language": "python",
   "name": "python38164bit57e2ac8b67e94c2c952fb940c784e620"
  },
  "language_info": {
   "codemirror_mode": {
    "name": "ipython",
    "version": 3
   },
   "file_extension": ".py",
   "mimetype": "text/x-python",
   "name": "python",
   "nbconvert_exporter": "python",
   "pygments_lexer": "ipython3",
   "version": "3.8.1"
  }
 },
 "nbformat": 4,
 "nbformat_minor": 4
}
